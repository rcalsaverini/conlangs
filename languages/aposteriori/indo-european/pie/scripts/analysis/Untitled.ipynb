{
 "cells": [
  {
   "cell_type": "code",
   "execution_count": 18,
   "id": "9c6550c2",
   "metadata": {},
   "outputs": [],
   "source": [
    "import re\n",
    "from pregex.core.classes import AnyFrom\n",
    "from pregex.core.quantifiers import AtLeastAtMost, OneOrMore\n",
    "from pregex.core.operators import Either\n",
    "from pregex.core.groups import Capture\n",
    "from pregex.core.pre import Pregex\n"
   ]
  },
  {
   "cell_type": "code",
   "execution_count": 24,
   "id": "4797d7a4",
   "metadata": {},
   "outputs": [],
   "source": [
    "SIMPLE_VOWELS = AnyFrom(\"a\", \"e\", \"i\", \"o\", \"u\")\n",
    "STRESSED_VOWELS = AnyFrom(\"á\", \"é\", \"í\", \"ó\", \"ú\")\n",
    "LONG_VOWELS = Either(SIMPLE_VOWELS + Pregex(\"ː\"), STRESSED_VOWELS + Pregex(\"ː\"))\n",
    "ANY_SINGLE_VOWEL = Either(SIMPLE_VOWELS, STRESSED_VOWELS, LONG_VOWELS)\n",
    "DIPTHONGS = AtLeastAtMost(ANY_SINGLE_VOWEL, 2, 3)\n",
    "\n",
    "\n",
    "LARYNGEALS = Pregex(\"h\") + AnyFrom(\"₁\", \"₂\", \"₃\")\n",
    "RHOTICS = AnyFrom(\"r\", \"ɹ\", \"ɾ\")\n",
    "LIQUIDS = AnyFrom(\"l\", \"ɭ\", \"ʎ\", \"ɫ\")\n",
    "NASALS = AnyFrom(\"m\", \"n\", \"ŋ\")\n",
    "GLIDES = AnyFrom(\"y\", \"w\")\n",
    "SIBILANTS = AnyFrom(\"s\", \"z\", \"ʃ\", \"ʒ\")\n",
    "STOPS = AnyFrom(\"p\", \"b\", \"t\", \"d\", \"k\", \"g\", \"q\")\n",
    "FRICATIVES = AnyFrom(\"f\", \"v\", \"θ\", \"ð\", \"x\", \"ɬ\", \"ɮ\")\n",
    "AFFRICATES = Either(\"ts\", \"dz\", \"tʃ\", \"dʒ\", \"tɬ\", \"dɮ\", \"tç\", \"dʝ\")\n",
    "PALATALIZED = STOPS + Pregex(\"ʲ\")\n",
    "VELARIZED = STOPS + Pregex(\"ˠ\")\n",
    "ASPIRATED = STOPS + Pregex(\"ʰ\")\n",
    "LABIALIZED = STOPS + Pregex(\"ʷ\")\n",
    "\n",
    "VOWEL_LIKE = Capture(Either(ANY_SINGLE_VOWEL, DIPTHONGS))\n",
    "SIBILANT = Capture(SIBILANTS)\n",
    "GLIDE = Capture(GLIDES)\n",
    "NASAL = Capture(NASALS)\n",
    "LIQUID = Capture(LIQUIDS)\n",
    "LARYNGEAL = Capture(LARYNGEALS)\n",
    "RHOTIC = Capture(RHOTICS)\n",
    "CONSONANT = Capture(Either(VELARIZED, PALATALIZED, ASPIRATED, LABIALIZED, STOPS, FRICATIVES, AFFRICATES))\n",
    "SYLLABLE_SEPARATOR = Pregex(\".\")\n",
    "SYLLABLE = OneOrMore(Either(VOWEL_LIKE, SIBILANT, GLIDE, NASAL, LIQUID, LARYNGEAL, RHOTIC, CONSONANT))\n",
    "WORD = SYLLABLE + OneOrMore(SYLLABLE_SEPARATOR + SYLLABLE)"
   ]
  },
  {
   "cell_type": "code",
   "execution_count": 32,
   "id": "56a1219c",
   "metadata": {},
   "outputs": [
    {
     "data": {
      "text/plain": [
       "[]"
      ]
     },
     "execution_count": 32,
     "metadata": {},
     "output_type": "execute_result"
    }
   ],
   "source": []
  },
  {
   "cell_type": "code",
   "execution_count": 15,
   "id": "4c9c3174",
   "metadata": {},
   "outputs": [],
   "source": [
    "regexes = {\n",
    "    \"VOWEL_LIKE\": re.compile(Capture(Either(ANY_SINGLE_VOWEL, DIPTHONGS), name=\"vowel_like\").get_pattern()),\n",
    "    \"SIBILANT\": re.compile(Capture(SIBILANTS, name=\"sibilant\").get_pattern()),\n",
    "    \"GLIDE\": re.compile(Capture(GLIDES, name=\"glide\").get_pattern()),\n",
    "    \"NASAL\": re.compile(Capture(NASALS, name=\"nasal\").get_pattern()),\n",
    "    \"LIQUID\": re.compile(Capture(LIQUIDS, name=\"liquid\").get_pattern()),\n",
    "    \"LARYNGEAL\": re.compile(Capture(LARYNGEALS, name=\"laryngeal\").get_pattern()),\n",
    "    \"RHOTIC\": re.compile(Capture(RHOTICS, name=\"rhotic\").get_pattern()),\n",
    "    \"CONSONANT\": re.compile(Capture(Either(VELARIZED, PALATALIZED, ASPIRATED, LABIALIZED, STOPS, FRICATIVES, AFFRICATES), name=\"consonant\").get_pattern()),\n",
    "}"
   ]
  },
  {
   "cell_type": "code",
   "execution_count": null,
   "id": "bbaebf6f",
   "metadata": {},
   "outputs": [],
   "source": []
  },
  {
   "cell_type": "code",
   "execution_count": 16,
   "id": "504cad3b",
   "metadata": {},
   "outputs": [
    {
     "data": {
      "text/plain": [
       "<re.Match object; span=(0, 2), match='pʰ'>"
      ]
     },
     "execution_count": 16,
     "metadata": {},
     "output_type": "execute_result"
    }
   ],
   "source": [
    "regexes[\"CONSONANT\"].match(\"pʰaltser\")"
   ]
  },
  {
   "cell_type": "code",
   "execution_count": null,
   "id": "57e5fb87",
   "metadata": {},
   "outputs": [],
   "source": []
  }
 ],
 "metadata": {
  "kernelspec": {
   "display_name": "Python 3 (ipykernel)",
   "language": "python",
   "name": "python3"
  },
  "language_info": {
   "codemirror_mode": {
    "name": "ipython",
    "version": 3
   },
   "file_extension": ".py",
   "mimetype": "text/x-python",
   "name": "python",
   "nbconvert_exporter": "python",
   "pygments_lexer": "ipython3",
   "version": "3.10.12"
  }
 },
 "nbformat": 4,
 "nbformat_minor": 5
}
